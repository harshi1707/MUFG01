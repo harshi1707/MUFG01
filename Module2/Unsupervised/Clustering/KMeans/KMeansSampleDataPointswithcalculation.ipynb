{
 "cells": [
  {
   "cell_type": "code",
   "execution_count": 1,
   "id": "00029abc-b6fb-4193-b683-3a354ad9e143",
   "metadata": {},
   "outputs": [
    {
     "data": {
      "text/html": [
       "<div>\n",
       "<style scoped>\n",
       "    .dataframe tbody tr th:only-of-type {\n",
       "        vertical-align: middle;\n",
       "    }\n",
       "\n",
       "    .dataframe tbody tr th {\n",
       "        vertical-align: top;\n",
       "    }\n",
       "\n",
       "    .dataframe thead th {\n",
       "        text-align: right;\n",
       "    }\n",
       "</style>\n",
       "<table border=\"1\" class=\"dataframe\">\n",
       "  <thead>\n",
       "    <tr style=\"text-align: right;\">\n",
       "      <th></th>\n",
       "      <th>x</th>\n",
       "      <th>y</th>\n",
       "      <th>cluster</th>\n",
       "    </tr>\n",
       "  </thead>\n",
       "  <tbody>\n",
       "    <tr>\n",
       "      <th>0</th>\n",
       "      <td>2</td>\n",
       "      <td>10</td>\n",
       "      <td>0</td>\n",
       "    </tr>\n",
       "    <tr>\n",
       "      <th>1</th>\n",
       "      <td>2</td>\n",
       "      <td>5</td>\n",
       "      <td>2</td>\n",
       "    </tr>\n",
       "    <tr>\n",
       "      <th>2</th>\n",
       "      <td>8</td>\n",
       "      <td>4</td>\n",
       "      <td>1</td>\n",
       "    </tr>\n",
       "    <tr>\n",
       "      <th>3</th>\n",
       "      <td>5</td>\n",
       "      <td>8</td>\n",
       "      <td>0</td>\n",
       "    </tr>\n",
       "    <tr>\n",
       "      <th>4</th>\n",
       "      <td>7</td>\n",
       "      <td>5</td>\n",
       "      <td>1</td>\n",
       "    </tr>\n",
       "    <tr>\n",
       "      <th>5</th>\n",
       "      <td>6</td>\n",
       "      <td>4</td>\n",
       "      <td>1</td>\n",
       "    </tr>\n",
       "    <tr>\n",
       "      <th>6</th>\n",
       "      <td>1</td>\n",
       "      <td>2</td>\n",
       "      <td>2</td>\n",
       "    </tr>\n",
       "    <tr>\n",
       "      <th>7</th>\n",
       "      <td>4</td>\n",
       "      <td>9</td>\n",
       "      <td>0</td>\n",
       "    </tr>\n",
       "  </tbody>\n",
       "</table>\n",
       "</div>"
      ],
      "text/plain": [
       "   x   y  cluster\n",
       "0  2  10        0\n",
       "1  2   5        2\n",
       "2  8   4        1\n",
       "3  5   8        0\n",
       "4  7   5        1\n",
       "5  6   4        1\n",
       "6  1   2        2\n",
       "7  4   9        0"
      ]
     },
     "execution_count": 1,
     "metadata": {},
     "output_type": "execute_result"
    }
   ],
   "source": [
    "import numpy as np\n",
    "import pandas as pd\n",
    "import matplotlib.pyplot as plt\n",
    "\n",
    "# Dataset\n",
    "data = np.array([\n",
    "    [2, 10],\n",
    "    [2, 5],\n",
    "    [8, 4],\n",
    "    [5, 8],\n",
    "    [7, 5],\n",
    "    [6, 4],\n",
    "    [1, 2],\n",
    "    [4, 9]\n",
    "])\n",
    "\n",
    "# Convert to Pandas DataFrame for easier handling\n",
    "df = pd.DataFrame(data, columns=['x', 'y'])\n",
    "\n",
    "# Number of clusters\n",
    "n_clusters = 3\n",
    "\n",
    "# Manually assign cluster labels\n",
    "cluster_labels = np.array([0, 2, 1, 0, 1, 1, 2, 0])\n",
    "\n",
    "# Add cluster labels to the DataFrame\n",
    "df['cluster'] = cluster_labels\n",
    "\n",
    "df"
   ]
  },
  {
   "cell_type": "code",
   "execution_count": 2,
   "id": "09c620df-8f3c-4d9f-9bbc-901ee49ad15d",
   "metadata": {},
   "outputs": [
    {
     "data": {
      "image/png": "[encoded data removed]",
      "text/plain": [
       "<Figure size 800x600 with 1 Axes>"
      ]
     },
     "metadata": {},
     "output_type": "display_data"
    }
   ],
   "source": [
    "# Calculate centroids based on the manual assignments\n",
    "centroids = np.zeros((n_clusters, 2))  # Initialize centroids array\n",
    "for i in range(n_clusters):\n",
    "    cluster_data = df[df['cluster'] == i][['x', 'y']]\n",
    "    centroids[i] = cluster_data.mean().values\n",
    "\n",
    "# Visualize the clusters\n",
    "plt.figure(figsize=(8, 6))\n",
    "for cluster in range(n_clusters):\n",
    "    cluster_data = df[df['cluster'] == cluster]\n",
    "    plt.scatter(cluster_data['x'], cluster_data['y'], label=f'Cluster {cluster}')\n",
    "\n",
    "plt.scatter(centroids[:, 0], centroids[:, 1], marker='x', s=200, color='black', label='Centroids')\n",
    "plt.title('K-Means Clustering (Manual Assignment)')\n",
    "plt.xlabel('x')\n",
    "plt.ylabel('y')\n",
    "plt.legend()\n",
    "plt.show()\n",
    "\n",
    "\n"
   ]
  },
  {
   "cell_type": "code",
   "execution_count": 3,
   "id": "b3414e94-f9d3-4b25-b98f-aa0a50a3e7ea",
   "metadata": {},
   "outputs": [
    {
     "name": "stdout",
     "output_type": "stream",
     "text": [
      "\n",
      "Cluster Centers:\n",
      "[[3.66666667 9.        ]\n",
      " [7.         4.33333333]\n",
      " [1.5        3.5       ]]\n"
     ]
    }
   ],
   "source": [
    "# Print cluster centers\n",
    "print(\"\\nCluster Centers:\")\n",
    "print(centroids)\n",
    "\n"
   ]
  },
  {
   "cell_type": "code",
   "execution_count": 4,
   "id": "d2fa967e-60fc-418e-b618-c894c8b6ec54",
   "metadata": {},
   "outputs": [
    {
     "name": "stdout",
     "output_type": "stream",
     "text": [
      "\n",
      "Cluster Analysis:\n",
      "                x         y\n",
      "cluster                    \n",
      "0        3.666667  9.000000\n",
      "1        7.000000  4.333333\n",
      "2        1.500000  3.500000\n"
     ]
    }
   ],
   "source": [
    "# Analyze the clusters\n",
    "print(\"\\nCluster Analysis:\")\n",
    "print(df.groupby('cluster').mean())\n"
   ]
  },
  {
   "cell_type": "code",
   "execution_count": 5,
   "id": "d682291b-73a9-4447-99ee-e517e7be928b",
   "metadata": {},
   "outputs": [
    {
     "name": "stdout",
     "output_type": "stream",
     "text": [
      "\n",
      "Cluster Point Counts:\n",
      "cluster\n",
      "0    3\n",
      "1    3\n",
      "2    2\n",
      "Name: count, dtype: int64\n"
     ]
    }
   ],
   "source": [
    "\n",
    "# Count the number of points in each cluster\n",
    "print(\"\\nCluster Point Counts:\")\n",
    "print(df['cluster'].value_counts())"
   ]
  },
  {
   "cell_type": "code",
   "execution_count": null,
   "id": "094613db-f063-4bec-b845-4cc53e8f7542",
   "metadata": {},
   "outputs": [],
   "source": []
  }
 ],
 "metadata": {
  "kernelspec": {
   "display_name": "Python 3 (ipykernel)",
   "language": "python",
   "name": "python3"
  },
  "language_info": {
   "codemirror_mode": {
    "name": "ipython",
    "version": 3
   },
   "file_extension": ".py",
   "mimetype": "text/x-python",
   "name": "python",
   "nbconvert_exporter": "python",
   "pygments_lexer": "ipython3",
   "version": "3.12.3"
  }
 },
 "nbformat": 4,
 "nbformat_minor": 5
}
