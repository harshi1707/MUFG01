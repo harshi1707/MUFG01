{
 "cells": [
  {
   "cell_type": "code",
   "execution_count": 3,
   "id": "79a64e9e-e89d-483f-b402-8f49eae221a6",
   "metadata": {},
   "outputs": [
    {
     "name": "stdout",
     "output_type": "stream",
     "text": [
      "Entropy = 0.9183\n"
     ]
    }
   ],
   "source": [
    "import math\n",
    "\n",
    "def calculate_entropy(positive, negative):\n",
    "    total = positive + negative\n",
    "\n",
    "    # Handle edge cases (pure node)\n",
    "    if total == 0 or positive == 0 or negative == 0:\n",
    "        return 0.0\n",
    "\n",
    "    p_pos = positive / total\n",
    "    p_neg = negative / total\n",
    "\n",
    "    entropy = - (p_pos * math.log2(p_pos)) - (p_neg * math.log2(p_neg))\n",
    "    return round(entropy, 4)\n",
    "\n",
    "# Example: 9 'Yes', 5 'No'\n",
    "positive = 4\n",
    "negative = 2\n",
    "\n",
    "entropy = calculate_entropy(positive, negative)\n",
    "print(f\"Entropy = {entropy}\")\n"
   ]
  },
  {
   "cell_type": "code",
   "execution_count": null,
   "id": "996d799b-3941-4f23-9b50-b7b9f0a117ec",
   "metadata": {},
   "outputs": [],
   "source": []
  }
 ],
 "metadata": {
  "kernelspec": {
   "display_name": "Python 3 (ipykernel)",
   "language": "python",
   "name": "python3"
  },
  "language_info": {
   "codemirror_mode": {
    "name": "ipython",
    "version": 3
   },
   "file_extension": ".py",
   "mimetype": "text/x-python",
   "name": "python",
   "nbconvert_exporter": "python",
   "pygments_lexer": "ipython3",
   "version": "3.12.3"
  }
 },
 "nbformat": 4,
 "nbformat_minor": 5
}
