{
 "cells": [
  {
   "cell_type": "code",
   "execution_count": 14,
   "id": "59526d37-0b10-470d-99a9-a2962eb475c2",
   "metadata": {},
   "outputs": [],
   "source": [
    "import os\n",
    "import json\n",
    "import pandas as pd\n",
    "from sklearn.model_selection import train_test_split\n",
    "\n",
    "# Import helper functions from model_utils.py\n",
    "from model_utils import (\n",
    "    load_data,\n",
    "    preprocess,\n",
    "    train_baselines,\n",
    "    run_grid_search,\n",
    "    evaluate_model,\n",
    "    save_artifacts\n",
    ")\n",
    "\n",
    "# Paths\n",
    "DATA_PATH = \"heart_disease_dataset.csv\"   # Update if needed\n",
    "ARTIFACTS_DIR = \"artifacts\"\n",
    "TEST_SIZE = 0.2\n",
    "RANDOM_STATE = 42\n"
   ]
  },
  {
   "cell_type": "code",
   "execution_count": 15,
   "id": "5319f1a3-505a-4e2f-a697-a710f80c0bbd",
   "metadata": {},
   "outputs": [
    {
     "name": "stdout",
     "output_type": "stream",
     "text": [
      "📂 Loading data...\n",
      "⚙️ Preprocessing...\n",
      "✅ Data shape after preprocessing: (400, 13), Target shape: (400,)\n"
     ]
    }
   ],
   "source": [
    "print(\"📂 Loading data...\")\n",
    "df = load_data(DATA_PATH)\n",
    "\n",
    "print(\"⚙️ Preprocessing...\")\n",
    "X, y, scaler = preprocess(df, target_col=\"heart_disease\")\n",
    "\n",
    "print(f\"✅ Data shape after preprocessing: {X.shape}, Target shape: {y.shape}\")\n"
   ]
  },
  {
   "cell_type": "code",
   "execution_count": 16,
   "id": "3b179b83-7a32-4f7e-b0fc-c6d1f9a74722",
   "metadata": {},
   "outputs": [
    {
     "name": "stdout",
     "output_type": "stream",
     "text": [
      "✂️ Splitting into train/test...\n",
      "Train shape: (320, 13), Test shape: (80, 13)\n"
     ]
    }
   ],
   "source": [
    "print(\"✂️ Splitting into train/test...\")\n",
    "X_train, X_test, y_train, y_test = train_test_split(\n",
    "    X, y,\n",
    "    test_size=TEST_SIZE,\n",
    "    stratify=y,\n",
    "    random_state=RANDOM_STATE\n",
    ")\n",
    "\n",
    "print(f\"Train shape: {X_train.shape}, Test shape: {X_test.shape}\")\n"
   ]
  },
  {
   "cell_type": "code",
   "execution_count": 17,
   "id": "16fc0200-5f0d-4de6-a9ea-d40c8e98e83d",
   "metadata": {},
   "outputs": [
    {
     "name": "stdout",
     "output_type": "stream",
     "text": [
      "🏗️ Training baseline models...\n",
      "✅ Baseline models trained\n"
     ]
    }
   ],
   "source": [
    "print(\"🏗️ Training baseline models...\")\n",
    "baselines = train_baselines(X_train, y_train)\n",
    "print(\"✅ Baseline models trained\")\n"
   ]
  },
  {
   "cell_type": "code",
   "execution_count": null,
   "id": "c28a3bfc-8642-45d4-ad49-935e5d8db8d7",
   "metadata": {},
   "outputs": [
    {
     "name": "stdout",
     "output_type": "stream",
     "text": [
      "🔍 Running grid search for hyperparameter optimization...\n",
      "🔍 Grid searching: decision_tree\n",
      "Fitting 5 folds for each of 90 candidates, totalling 450 fits\n",
      "🔍 Grid searching: random_forest\n",
      "Fitting 5 folds for each of 324 candidates, totalling 1620 fits\n"
     ]
    }
   ],
   "source": [
    "print(\"🔍 Running grid search for hyperparameter optimization...\")\n",
    "best_models = run_grid_search(X_train, y_train)\n",
    "print(\"✅ Grid search complete\")\n"
   ]
  },
  {
   "cell_type": "code",
   "execution_count": null,
   "id": "754f09e6-418f-4de7-8873-d93f3aaf49db",
   "metadata": {},
   "outputs": [],
   "source": [
    "print(\"📊 Evaluating optimized models on test set...\")\n",
    "\n",
    "evaluations = {}\n",
    "for name, info in best_models.items():\n",
    "    estimator = info['best_estimator']\n",
    "    eval_res = evaluate_model(estimator, X_test, y_test)\n",
    "    evaluations[name] = {\n",
    "        \"best_params\": info[\"best_params\"],\n",
    "        \"cv_score\": info[\"best_score\"],\n",
    "        \"test_eval\": eval_res\n",
    "    }\n",
    "\n",
    "print(\"✅ Evaluation complete\")\n"
   ]
  },
  {
   "cell_type": "code",
   "execution_count": null,
   "id": "b1f5f342-d2b0-4fd3-b6e1-8ad469c1eb1b",
   "metadata": {},
   "outputs": [],
   "source": [
    "# Choose best model by test ROC-AUC\n",
    "best_name = max(evaluations.keys(), key=lambda n: evaluations[n][\"test_eval\"][\"roc_auc\"])\n",
    "chosen_estimator = best_models[best_name][\"best_estimator\"]\n",
    "\n",
    "metadata = {\n",
    "    \"chosen_model\": best_name,\n",
    "    \"evaluations\": evaluations\n",
    "}\n",
    "\n",
    "save_artifacts(chosen_estimator, scaler, metadata, artifacts_dir=ARTIFACTS_DIR)\n",
    "print(f\"✅ Saved best model: {best_name} to {ARTIFACTS_DIR}\")\n"
   ]
  },
  {
   "cell_type": "code",
   "execution_count": null,
   "id": "b8c63c9b-608b-4bb3-9827-499e4467952d",
   "metadata": {},
   "outputs": [],
   "source": [
    "print(\"📊 Summary of evaluations (ROC-AUC on test set):\")\n",
    "print(json.dumps(\n",
    "    {k: {\"roc_auc\": v[\"test_eval\"][\"roc_auc\"]} for k, v in evaluations.items()},\n",
    "    indent=2\n",
    "))\n"
   ]
  },
  {
   "cell_type": "code",
   "execution_count": null,
   "id": "eb26f9c9-2566-4f0b-972a-0a8766bf1166",
   "metadata": {},
   "outputs": [],
   "source": []
  }
 ],
 "metadata": {
  "kernelspec": {
   "display_name": "Python 3 (ipykernel)",
   "language": "python",
   "name": "python3"
  },
  "language_info": {
   "codemirror_mode": {
    "name": "ipython",
    "version": 3
   },
   "file_extension": ".py",
   "mimetype": "text/x-python",
   "name": "python",
   "nbconvert_exporter": "python",
   "pygments_lexer": "ipython3",
   "version": "3.8.10"
  }
 },
 "nbformat": 4,
 "nbformat_minor": 5
}
